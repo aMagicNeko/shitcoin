{
 "cells": [
  {
   "cell_type": "code",
   "execution_count": null,
   "metadata": {},
   "outputs": [],
   "source": [
    "# main_script.py\n",
    "import os\n",
    "import pandas as pd\n",
    "import matplotlib.pyplot as plt\n",
    "from multiprocessing import Pool, cpu_count\n",
    "from data_processing import read_and_process\n",
    "\n",
    "def main(folder_path):\n",
    "    files = [os.path.join(folder_path, file) for file in os.listdir(folder_path)]\n",
    "    with Pool(cpu_count()) as pool:\n",
    "        results = pool.map(read_and_process, files)\n",
    "    \n",
    "    # 过滤掉处理失败的结果\n",
    "    all_features = []\n",
    "    all_targets = []\n",
    "    for features, targets in results:\n",
    "        if features is not None and targets is not None:\n",
    "            all_features.extend(features)\n",
    "            all_targets.extend(targets)\n",
    "\n",
    "    return all_features, all_targets\n",
    "\n",
    "# 读取数据\n",
    "folder_path = '/Users/ekko/Downloads/coin_data'  # 更改为你的文件夹路径\n",
    "\n",
    "# 主函数执行\n",
    "all_features, all_targets = main(folder_path)\n",
    "\n",
    "# 转换为DataFrame\n",
    "features_df = pd.DataFrame(all_features)\n",
    "targets_df = pd.DataFrame(all_targets)\n",
    "\n",
    "# 合并特征和目标变量\n",
    "data_df = pd.concat([features_df, targets_df], axis=1)\n",
    "\n",
    "# 保存数据\n",
    "data_df.to_csv('features_targets.csv', index=False)\n",
    "\n",
    "print(\"Data collection complete.\")\n"
   ]
  }
 ],
 "metadata": {
  "kernelspec": {
   "display_name": "base",
   "language": "python",
   "name": "python3"
  },
  "language_info": {
   "codemirror_mode": {
    "name": "ipython",
    "version": 3
   },
   "file_extension": ".py",
   "mimetype": "text/x-python",
   "name": "python",
   "nbconvert_exporter": "python",
   "pygments_lexer": "ipython3",
   "version": "3.9.7"
  }
 },
 "nbformat": 4,
 "nbformat_minor": 2
}
